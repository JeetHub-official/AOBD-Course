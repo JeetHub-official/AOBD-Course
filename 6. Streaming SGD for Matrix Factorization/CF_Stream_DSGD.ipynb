{
  "nbformat": 4,
  "nbformat_minor": 0,
  "metadata": {
    "colab": {
      "name": "Stream_DSGD.ipynb",
      "provenance": [],
      "collapsed_sections": []
    },
    "kernelspec": {
      "name": "python3",
      "display_name": "Python 3"
    }
  },
  "cells": [
    {
      "cell_type": "markdown",
      "metadata": {
        "id": "RWLIqyv87fAn",
        "colab_type": "text"
      },
      "source": [
        "##Q7. Collaborative Filtering (Streaming Distributed Stochastic Gradient Descent for Matrix Factorization)\n",
        "\n"
      ]
    },
    {
      "cell_type": "markdown",
      "metadata": {
        "id": "DZ8j_DGp8sj7",
        "colab_type": "text"
      },
      "source": [
        "Imports"
      ]
    },
    {
      "cell_type": "code",
      "metadata": {
        "id": "LBvKDIAQ8uNU",
        "colab_type": "code",
        "colab": {}
      },
      "source": [
        "# Necessary Libraries\n",
        "import scipy.sparse as sparse\n",
        "import scipy.stats as stats\n",
        "import numpy as np\n",
        "import threading\n",
        "import random"
      ],
      "execution_count": 0,
      "outputs": []
    },
    {
      "cell_type": "markdown",
      "metadata": {
        "id": "Up7cbRsk9Zjn",
        "colab_type": "text"
      },
      "source": [
        "Function 1: Creating Rating Matrix Randomly "
      ]
    },
    {
      "cell_type": "code",
      "metadata": {
        "id": "UT1etwG19Yv3",
        "colab_type": "code",
        "colab": {}
      },
      "source": [
        "# Creating the Rating Matrix that has values of rating between 0 to 9\n",
        "def create_Rating_matrix(numUsers, numMovies):\n",
        "  np.random.seed(42)\n",
        "  A = sparse.random(numUsers, numMovies, density=0.3)*10    # Sparse rating matrix of 10 X 10\n",
        "  A = np.floor(A.toarray())                    # to make values of ratings between 0 to 9\n",
        "  return A                                    # returning the rating matrix"
      ],
      "execution_count": 0,
      "outputs": []
    },
    {
      "cell_type": "markdown",
      "metadata": {
        "id": "ro0Z-nD_9kE-",
        "colab_type": "text"
      },
      "source": [
        "Function 2: Extracting list of tuples (i,j,Rij) from the Rating Matrix R"
      ]
    },
    {
      "cell_type": "code",
      "metadata": {
        "id": "tx8rwxs_9jX8",
        "colab_type": "code",
        "colab": {}
      },
      "source": [
        "# Function that makes a list of tuples (i,j,Rij) from the rating matrix R \n",
        "def listOfTuples(R):\n",
        "  list1 = []\n",
        "  cnt = 0\n",
        "  for i in range(len(R)):     # iterating through all rows in R\n",
        "    for j in range(len(R[0])):   # iterating through all columns in R\n",
        "      if(R[i][j]!=0):      # Rij not equal to zero for training purpose\n",
        "        list1.append((i,j,R[i][j]))   # adding tuples (i,j,Rij) where i-> user id and j -> movie id\n",
        "        cnt = cnt + 1\n",
        "  print('No.  of non-zeros:',cnt) \n",
        "  return list1  # returning the list of tuples"
      ],
      "execution_count": 0,
      "outputs": []
    },
    {
      "cell_type": "markdown",
      "metadata": {
        "id": "PpGveV1q9tLM",
        "colab_type": "text"
      },
      "source": [
        "Function 3: Generator Function"
      ]
    },
    {
      "cell_type": "code",
      "metadata": {
        "id": "fmMgDOoR9saM",
        "colab_type": "code",
        "colab": {}
      },
      "source": [
        "# Generator function yielding tuples (i,j,Rij) for streaming purposes\n",
        "def myGeneratorfun():\n",
        "    counter=0\n",
        "    random.shuffle(list1) # randomly shuffling the list of tuples (i,j,Rij)\n",
        "    for chunk in list1:\n",
        "        counter=counter+1\n",
        "        yield (chunk)"
      ],
      "execution_count": 0,
      "outputs": []
    },
    {
      "cell_type": "markdown",
      "metadata": {
        "id": "u10gIlFr-JT1",
        "colab_type": "text"
      },
      "source": [
        "Function 4: To check whether the Block is locked or not"
      ]
    },
    {
      "cell_type": "code",
      "metadata": {
        "id": "y8F1a_8t-Ie2",
        "colab_type": "code",
        "colab": {}
      },
      "source": [
        "# Functions to check whether a block is locked or not\n",
        "def check_block(block, rows, cols):\n",
        "  if(any(block[0]==i for i in rows) or any(block[1]==i for i in cols) ):     # if block[0] = block row number is in block rows list OR if block[1] = block column number is in block columns list then return false \n",
        "    return False  # Block is locked\n",
        "  else:\n",
        "    return True  # Block is unlocked\n",
        "    \n",
        "def check_block2(block, rows, cols):\n",
        "  if(any(block[0]==i for i in rows) and any(block[1]==i for i in cols) ):   # if block[0] = block row number is in block rows list and if block[1] = block column number is in block columns list then return false \n",
        "    return False  # Block is locked\n",
        "  else:\n",
        "    return True  # Block is unlocked"
      ],
      "execution_count": 0,
      "outputs": []
    },
    {
      "cell_type": "markdown",
      "metadata": {
        "id": "-ZY24g3_-Vwd",
        "colab_type": "text"
      },
      "source": [
        "Function 5: Find block number (p,q) of the tuple (i,j,Rij)"
      ]
    },
    {
      "cell_type": "code",
      "metadata": {
        "id": "9VCKePsKpasq",
        "colab_type": "code",
        "colab": {}
      },
      "source": [
        "#Function that computes the block number (p,q) of the tuple (i,j, Rij)\n",
        "def find_block(list1, u, m, d):\n",
        "  index1 = u/d    # NUmber of users in one block\n",
        "  index2 = m/d   # number of movies in one block\n",
        "  p = np.floor(list1[0]/index1)    # Block row p\n",
        "  q = np.floor(list1[1]/index2)    # Block col q\n",
        "  return p,q"
      ],
      "execution_count": 0,
      "outputs": []
    },
    {
      "cell_type": "markdown",
      "metadata": {
        "id": "3w74ZnMn-rvg",
        "colab_type": "text"
      },
      "source": [
        "Thread Class for Worker"
      ]
    },
    {
      "cell_type": "code",
      "metadata": {
        "id": "gdPIN38Z-puN",
        "colab_type": "code",
        "colab": {}
      },
      "source": [
        "# Thread Class\n",
        "class myThread (threading.Thread):\n",
        "\n",
        "    # Init Method of thread class  (Worker)\n",
        "   def __init__(self, threadID, name):\n",
        "      threading.Thread.__init__(self) \n",
        "      self.threadID = threadID     # setting the TheadId for accessing ID of different worker\n",
        "      self.name = name              # setting the thread name\n",
        "\n",
        "   # Implementation of WORKER FUNCTION\n",
        "   def run(self):   \n",
        "      #print(\"Starting \", self.name, \" \", self.threadID)\n",
        "\n",
        "      # Running Continuously\n",
        "      while(True):\n",
        "        \n",
        "        # Indicator set for extracting (p,q) sent by master \n",
        "        # If the flag for that worker ID is 2, then (p,q) is received from master, else wait \n",
        "        if(Worker_flags[self.threadID] == 2):\n",
        "          \n",
        "          # Extracting (p,q) that is arrived in the Worker_blocks[p] list added by master method\n",
        "          (p,q) = Worker_blocks[self.threadID].pop()\n",
        "\n",
        "          # setting the indicator back to 0 for further indications of addition of (p,q) block number\n",
        "          Worker_flags[int(p)] = 0  # indicator\n",
        "\n",
        "          # Request Up from data matrix U\n",
        "          # finding the total number of users and movies in one block \n",
        "          index = numUsers/numWorkers\n",
        "          index2 = numMovies/numWorkers\n",
        "          \n",
        "          # Extracting Up block from the matrix U \n",
        "          start = int(p*index)      # defining the start index \n",
        "          end = int((p+1)*index)    # defining the end index \n",
        "          Up = U[:,start:end]       # Extracting Up from U \n",
        "\n",
        "          # Extracting Vq block from the matrix V\n",
        "          start = int(q*index2)     # defining the start index \n",
        "          end = int((q+1)*index2)   # defining the end index \n",
        "          Vq = V[:,start:end]       # Extracting Vq from V \n",
        "\n",
        "          pq_list = []  # empty list\n",
        "\n",
        "          # Finding (i,j,Rij) that belongs to (p,q) block. Tuples (i,j,Rij) that belongs to block row p are mentioned in Worker_tuples[p]\n",
        "          for i,j,rating in Worker_tuples[int(p)]:   # iterating through all tuples present in block row p\n",
        "            nos_in_block = numMovies/numWorkers      # numbers of movie indexes in one block\n",
        "            checkQ = np.floor(j/nos_in_block)        # calculating the block col 'checkQ' of the tiple (i,j,Rij) from for loop\n",
        "\n",
        "            # if the block col checkQ matches with q \n",
        "            if(checkQ==q):\n",
        "              pq_list.append((i,j,rating))       # add the tuples in the empty list pq_list\n",
        "              Worker_tuples[int(p)].remove((i,j,rating)) # remove that tuple from the Worker_tuples \n",
        "\n",
        "          # for each i,j,Rij in pq_list, update the blocks U and V\n",
        "          for (i,j,rating) in pq_list:\n",
        "            try :\n",
        "                list1.remove((i,j,rating))      # remove the tuple (i,j,Rij)\n",
        "                pq_list.remove((i,j,rating))    # remove the tuple (i,j,Rij)\n",
        "\n",
        "                pos_user = int(i - (p)*index)    # mapping the index of i (ith user for U) for Up  \n",
        "                pos_movie = int(j - (q)*index2)  # mapping the index of j (jth user in V) for Vq\n",
        "\n",
        "                # Simultaneous Update of ui row and vj col\n",
        "                temp_U = Up[:,pos_user]          # storing the vector into a temporary variable\n",
        "                temp_V = Vq[:,pos_movie]          # storing the vector into a temporary variable\n",
        "\n",
        "                for no in range(no_of_iteration):\n",
        "                    temp_U = temp_U - 2*eta*( (np.dot(temp_U.T, temp_V)-rating)*temp_V + (lambda1/numMovies)*temp_U )   # Updating ui\n",
        "                    temp_V = temp_V - 2*eta*( (np.dot(temp_U.T, temp_V)-rating)*temp_U + (lambda1/numUsers)*temp_V )    # updating vj\n",
        "                \n",
        "                Up[:,pos_user] = temp_U   # assigning temp values to final\n",
        "                Vq[:, pos_movie] = temp_V  # assigning temp values to final\n",
        "                print('predicted: ', np.dot(Up[:,pos_user].T, Vq[:,pos_movie]) , ' actual: ', rating) \n",
        "\n",
        "                # Adding the error amount (actual - predicted) in the list of error in worker p\n",
        "                error[self.threadID].append(np.dot(Up[:,pos_user].T, Vq[:,pos_movie]) - rating)  \n",
        "            except Exception:\n",
        "                print('',end=\"\")   # exception handling \n",
        "           \n",
        "          # Sending Up back to matrix store - Assigning Up to appropriate block in U\n",
        "          start = int(p*index)\n",
        "          end = int((p+1)*index)\n",
        "          U[:,start:end] = Up\n",
        "\n",
        "           # Sending Vq back to matrix store - Assigning Vq to appropriate block in V\n",
        "          start = int(q*index2)\n",
        "          end = int((q+1)*index2)\n",
        "          V[:,start:end] = Vq\n",
        "\n",
        "          # send (p,q) back to sender - Removing the blocking on block row p and block col q\n",
        "          if(not check_block2((p,q),block_rows,block_cols)):\n",
        "            block_rows.remove(p)\n",
        "            block_cols.remove(q)"
      ],
      "execution_count": 0,
      "outputs": []
    },
    {
      "cell_type": "markdown",
      "metadata": {
        "id": "4TDi5SGP-6l9",
        "colab_type": "text"
      },
      "source": [
        "Initialization of Variables"
      ]
    },
    {
      "cell_type": "code",
      "metadata": {
        "id": "Byi2RZwHP6t2",
        "colab_type": "code",
        "outputId": "26875557-4e85-492b-86d5-3e9e20b98854",
        "colab": {
          "base_uri": "https://localhost:8080/",
          "height": 34
        }
      },
      "source": [
        "# Creating Random Matrix R and extracting the list of tuples (i,j,Rij) corresponding to non zero ratings\n",
        "numUsers = 10\n",
        "numMovies = 10\n",
        "R = create_Rating_matrix(numUsers, numMovies)   #  Rating matrix (randomly initialized sparse matrix)\n",
        "list1 = listOfTuples(R)      # Making tuples (i,j,Rij) for which Rij is not equal to zero\n",
        "\n",
        "# Initializing Variables\n",
        "numWorkers = 5           # number of workers\n",
        "numFactors = 5           # number of factors\n",
        "eta = 0.003              # eta value\n",
        "lambda1 = 0.3            # Lambda value\n",
        "no_of_iteration = 100    # Number of iterations for updating ui and vj\n",
        "numUsers = R.shape[0]    # number of users\n",
        "numMovies = R.shape[1]   # number of movies         \n",
        "block_rows = []          # list of blocked block row numbers\n",
        "block_cols = []          # list of blocked block col numbers\n",
        "\n",
        "Threads = np.ndarray((numWorkers,),dtype=np.object)         # Threads of size number of workers\n",
        "Worker_tuples = np.ndarray((numWorkers,),dtype=np.object)   # List of size number of workers for tuples (i,j,Rij) for each worker\n",
        "Worker_blocks = np.ndarray((numWorkers,),dtype=np.object)   # List of size number of workers for block numbers (p,q) for each worker\n",
        "error = np.ndarray((numWorkers,),dtype=np.object)           # List of size number of workers for error calculaton for each worker\n",
        "Worker_flags = np.ndarray((numWorkers,),dtype=np.object)    # List of size number of workers for flags to indicate different events\n",
        "\n",
        "# Randomly intialize U and V (initially) - MATRIX STORE \n",
        "U = np.random.rand(numFactors, numUsers)\n",
        "V = np.random.rand(numFactors, numMovies)"
      ],
      "execution_count": 8,
      "outputs": [
        {
          "output_type": "stream",
          "text": [
            "No.  of non-zeros: 28\n"
          ],
          "name": "stdout"
        }
      ]
    },
    {
      "cell_type": "markdown",
      "metadata": {
        "id": "NfVs2qhC_EsI",
        "colab_type": "text"
      },
      "source": [
        "Master Method"
      ]
    },
    {
      "cell_type": "code",
      "metadata": {
        "id": "kUrlTWK9_ArR",
        "colab_type": "code",
        "colab": {
          "base_uri": "https://localhost:8080/",
          "height": 493
        },
        "outputId": "4246026e-8c96-4311-9ff5-33861e2d0291"
      },
      "source": [
        "# MASTER FUNCTION\n",
        "\n",
        "# Create all 10 workers (threads)\n",
        "for i in range(numWorkers):\n",
        "  Threads[i] = myThread(i, \"Worker\"+str(i))\n",
        "for i in range(numWorkers):  \n",
        "  Threads[i].start()\n",
        "\n",
        "# Initializing the lists for every worker\n",
        "for i in range(numWorkers):  \n",
        "  Worker_tuples[i] = []\n",
        "  Worker_blocks[i] = []\n",
        "  error[i] = []\n",
        " \n",
        "# Repeat till all the tuples in the tuple list created from the matrix R are processed\n",
        "while len(list1)!=0:   \n",
        "  myGenerator = myGeneratorfun()   # calling Generator function \n",
        "  for m in myGenerator:          # m = (i,j, Rij)\n",
        "    p, q = find_block(m, numUsers, numMovies, numWorkers)  # finding the block number to which (i,j,Rij) - m tuple belongs\n",
        "    p = int(p) # converting to int\n",
        "    q = int(q) # converting to int\n",
        "    \n",
        "    # Forward (i,j,Rij) to worker p = add (i,j,Rij) into list of worker p and set the indicator to 1 of worker p\n",
        "    Worker_tuples[int(p)].append(m)\n",
        "\n",
        "    # Randomly select p1 and q1 from unlocked blocks and sending to worker\n",
        "    while True:\n",
        "        p1 = random.randrange(numWorkers)   # randomly select p1\n",
        "        q1 = random.randrange(numWorkers)   # randomly select a1\n",
        "        block = (p1,q1)  # make tuple\n",
        "        answer = check_block(block, block_rows, block_cols)   # Check if the block is locked or not\n",
        "    \n",
        "        if(answer == True):  # if that block is not blocked, then select it and block rows and cols of it\n",
        "            block_rows.append(p1)    # locking the block row q\n",
        "            block_cols.append(q1)    # locking the block col q\n",
        "            Worker_blocks[p1].append((p1,q1))  # add the tuple (p,q) - block number inside worker p block list\n",
        "            Worker_flags[int(p1)] = 2  # indicator that (p,q) have arrived to worker p\n",
        "            break\n",
        "        else:  # if that block is blocked, find another one randomly\n",
        "            continue"
      ],
      "execution_count": 9,
      "outputs": [
        {
          "output_type": "stream",
          "text": [
            "predicted:  4.9513923206401405  actual:  5.0\n",
            "predicted:  1.9087970384844852  actual:  2.0\n",
            "predicted:  5.968303349088524  actual:  6.0\n",
            "predicted:  5.962801443095854 predicted:  1.0952013649015058  actual:  1.0\n",
            " actual:  6.0predicted: \n",
            " 7.966176399007296  actual:  8.0\n",
            "predicted:  6.973435963574142  actual:  7.0\n",
            "predicted: predicted:   3.9812605151903027  actual:  4.0\n",
            "6.971978505070078  actual:  7.0\n",
            "predicted:  4.924449164565523  actual:  5.0\n",
            "predicted:  7.969972731883546  actual:  8.0\n",
            "predicted:  3.9649098461349412  actual:  4.0\n",
            "predicted: predicted:  2.975392392960269  actual:  3.0\n",
            " 8.970505349107999  actual:  9.0\n",
            "predicted:  5.968647575460187  actual:  6.0\n",
            "predicted:  7.968430530995277  actual:  8.0\n",
            "predicted:  6.973397463299582  actual:  7.0\n",
            "predicted:  6.972530297036958  actual:  7.0\n",
            "predicted: predicted:  8.973322376119398  actual:  9.0\n",
            " 2.0158635401578557  actual:  2.0\n",
            "predicted: predicted:  1.9956734663427322  actual:  2.0\n",
            " 2.9944774304849187predicted:  5.977085732366358  actual:  6.0\n",
            "  actual:  3.0\n",
            "predicted:  8.96975076995858  actual:  9.0\n",
            "predicted:  2.0078232098834814  actual:  2.0\n",
            "predicted:  predicted: 1.0295780108110129  actual:  1.0\n",
            "predicted:  4.983857355522689  actual:  5.0\n",
            " 3.9683217856406205  actual:  4.0\n"
          ],
          "name": "stdout"
        }
      ]
    },
    {
      "cell_type": "markdown",
      "metadata": {
        "id": "9kAkMe7m_JwX",
        "colab_type": "text"
      },
      "source": [
        "Calculating MAE and MSE Error"
      ]
    },
    {
      "cell_type": "code",
      "metadata": {
        "id": "0Z2hxpVBTPQ0",
        "colab_type": "code",
        "outputId": "8852734b-cdd7-4e90-de9c-7eb2cce9581b",
        "colab": {
          "base_uri": "https://localhost:8080/",
          "height": 68
        }
      },
      "source": [
        "# Calculating MSE and MAE error between actual and predicted ratings\n",
        "cnt = 0\n",
        "sum1 = 0\n",
        "sum2 = 0\n",
        "for i in range(numWorkers):   \n",
        "    sum1 = sum1 + np.sum(np.abs(error[i]))    # adding all the errors from each worker i\n",
        "    sum2 = sum2 +np.sum(np.multiply(error[i],error[i]))  # adding all the sqaured errros from each worker i \n",
        "    cnt = cnt + len(error[i])       # counting the values\n",
        "\n",
        "# Printing MAE and MSE error\n",
        "print('after training on ',cnt,' tuples' )\n",
        "print('MAE:',sum1/cnt)\n",
        "print('MSE:',sum2/cnt)\n"
      ],
      "execution_count": 10,
      "outputs": [
        {
          "output_type": "stream",
          "text": [
            "after training on  28  tuples\n",
            "MAE: 0.03262844013298055\n",
            "MSE: 0.0015189104413599463\n"
          ],
          "name": "stdout"
        }
      ]
    },
    {
      "cell_type": "code",
      "metadata": {
        "id": "TzjBj71bisxy",
        "colab_type": "code",
        "colab": {}
      },
      "source": [
        ""
      ],
      "execution_count": 0,
      "outputs": []
    }
  ]
}